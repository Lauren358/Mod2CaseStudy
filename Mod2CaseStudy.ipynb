{
 "cells": [
  {
   "cell_type": "code",
   "execution_count": 9,
   "id": "694e423e-68a9-4493-a909-700e5376bd6c",
   "metadata": {},
   "outputs": [
    {
     "name": "stdin",
     "output_type": "stream",
     "text": [
      "Enter student's last name:  ok\n",
      "Enter student's first name:  pl\n",
      "Enter GPA:  3.3\n"
     ]
    },
    {
     "name": "stdout",
     "output_type": "stream",
     "text": [
      "You've made the Honor Roll!\n"
     ]
    }
   ],
   "source": [
    "\"\"\"\n",
    "Author: Lauren Davis\n",
    "File name: Mod2CaseStudy.ipynb\n",
    "Description: In this program the user will enter a student's last name, first name, and the student's GPA. If the student's last name is entered as \"ZZZ\" then the program will automatically exit. A entered GPA of 3.25 or more will cause the program to print a message that the student made Honor Roll, if the GPA is 3.5 or more both a message for the Honor Roll and a message saying the student has made the Dean's List will show.\n",
    "\"\"\"\n",
    "\n",
    "last_name= input(\"Enter student's last name: \")\n",
    "\n",
    "if last_name == \"ZZZ\":\n",
    "    exit()\n",
    "\n",
    "first_name= input(\"Enter student's first name: \")\n",
    "GPA= float(input(\"Enter GPA: \"))\n",
    "\n",
    "if GPA >= 3.25:\n",
    "    print(\"You've made the Honor Roll!\")\n",
    "\n",
    "if GPA >= 3.5:\n",
    "    print(\"You have made it to the Dean's List!\")\n"
   ]
  },
  {
   "cell_type": "code",
   "execution_count": null,
   "id": "abc4965e-22fc-4300-9c84-601c7cdc452f",
   "metadata": {},
   "outputs": [],
   "source": []
  }
 ],
 "metadata": {
  "kernelspec": {
   "display_name": "Python 3 (ipykernel)",
   "language": "python",
   "name": "python3"
  },
  "language_info": {
   "codemirror_mode": {
    "name": "ipython",
    "version": 3
   },
   "file_extension": ".py",
   "mimetype": "text/x-python",
   "name": "python",
   "nbconvert_exporter": "python",
   "pygments_lexer": "ipython3",
   "version": "3.12.4"
  }
 },
 "nbformat": 4,
 "nbformat_minor": 5
}
